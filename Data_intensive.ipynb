{
  "nbformat": 4,
  "nbformat_minor": 0,
  "metadata": {
    "colab": {
      "provenance": []
    },
    "kernelspec": {
      "name": "python3",
      "display_name": "Python 3"
    },
    "language_info": {
      "name": "python"
    }
  },
  "cells": [
    {
      "cell_type": "code",
      "source": [
        "#Alternative approach\n",
        "!pip install pyspark\n"
      ],
      "metadata": {
        "id": "pZWhz1nhh_zB",
        "colab": {
          "base_uri": "https://localhost:8080/"
        },
        "outputId": "e60d5a52-1851-4eae-a193-8c72e92cb328"
      },
      "execution_count": 1,
      "outputs": [
        {
          "output_type": "stream",
          "name": "stdout",
          "text": [
            "Collecting pyspark\n",
            "  Downloading pyspark-3.5.0.tar.gz (316.9 MB)\n",
            "\u001b[2K     \u001b[90m━━━━━━━━━━━━━━━━━━━━━━━━━━━━━━━━━━━━━━━━\u001b[0m \u001b[32m316.9/316.9 MB\u001b[0m \u001b[31m3.6 MB/s\u001b[0m eta \u001b[36m0:00:00\u001b[0m\n",
            "\u001b[?25h  Preparing metadata (setup.py) ... \u001b[?25l\u001b[?25hdone\n",
            "Requirement already satisfied: py4j==0.10.9.7 in /usr/local/lib/python3.10/dist-packages (from pyspark) (0.10.9.7)\n",
            "Building wheels for collected packages: pyspark\n",
            "  Building wheel for pyspark (setup.py) ... \u001b[?25l\u001b[?25hdone\n",
            "  Created wheel for pyspark: filename=pyspark-3.5.0-py2.py3-none-any.whl size=317425344 sha256=f4ee029617e263752d25076ce31a629f36199dce1cc3b458360d9104eaa1a9d2\n",
            "  Stored in directory: /root/.cache/pip/wheels/41/4e/10/c2cf2467f71c678cfc8a6b9ac9241e5e44a01940da8fbb17fc\n",
            "Successfully built pyspark\n",
            "Installing collected packages: pyspark\n",
            "Successfully installed pyspark-3.5.0\n"
          ]
        }
      ]
    },
    {
      "cell_type": "code",
      "source": [
        "import os\n",
        "import sys\n",
        "import pyspark\n",
        "import json\n",
        "import pandas as pd\n",
        "import gzip\n",
        "import numpy as np\n",
        "import numpy as np\n",
        "import re\n"
      ],
      "metadata": {
        "id": "vRNXxN8SiADU"
      },
      "execution_count": 2,
      "outputs": []
    },
    {
      "cell_type": "code",
      "source": [
        "#function of converting full txt to list\n",
        "def extraxtString(string,startString,endString):\n",
        "    startingPoint=0\n",
        "    lengthString=len(string)\n",
        "    myList = []\n",
        "    continueYes = 1\n",
        "    while(continueYes == 1 and startingPoint < lengthString):\n",
        "        temp1=string.find(startString,startingPoint)\n",
        "        if(temp1 != -1):\n",
        "            temp1 = temp1+len(startString)\n",
        "            temp2 = string.find(endString,temp1)\n",
        "            if(temp2 != -1):\n",
        "                middleString=string[(temp1-len(startString)):temp2]\n",
        "                myList.append(middleString)\n",
        "                startingPoint=temp2\n",
        "            else:\n",
        "                continueYes=0\n",
        "        else:\n",
        "            continueYes=0\n",
        "    return myList\n",
        "\n"
      ],
      "metadata": {
        "id": "LR30AhdUiARM"
      },
      "execution_count": 3,
      "outputs": []
    },
    {
      "cell_type": "code",
      "source": [
        "import pyspark.ml.classification\n",
        "import pyspark.sql\n",
        "from pyspark.sql import SparkSession\n",
        "from pyspark.sql.types import StructType,StructField, StringType, IntegerType,BooleanType,DoubleType\n",
        "from pyspark.sql.functions import lit\n",
        "spark = SparkSession.builder \\\n",
        "    .master(\"local[1]\") \\\n",
        "    .appName(\"myProject_data_intensive\") \\\n",
        "    .getOrCreate()"
      ],
      "metadata": {
        "id": "VqeEDF-4VnXA"
      },
      "execution_count": 4,
      "outputs": []
    },
    {
      "cell_type": "code",
      "source": [
        "\n",
        "\n",
        "import os\n",
        "\n",
        "#Create an empty pyspark dataframe\n",
        "schema = StructType([StructField('overall', StringType(), True),\n",
        "                     StructField('reviewText', StringType(), True)])\n",
        "emptyRDD = spark.sparkContext.emptyRDD()\n",
        "df = spark.createDataFrame(emptyRDD,schema)\n",
        "#df.printSchema()\n",
        "df.show()\n",
        "\n",
        "\n",
        "dataPath=\"/content/drive/MyDrive/Colab Notebooks/test\"\n",
        "\n",
        "columns = [\"overall\", \"reviewText\"]\n",
        "start1=\"overall: \"\n",
        "end1=\".0,\"\n",
        "start2=\"reviewText: \"\n",
        "end2=\", summary\"\n",
        "\n",
        "for filename in os.listdir(dataPath):\n",
        "    print(filename)\n",
        "    mystring = open(os.path.join(dataPath, filename)).read().replace('\\n', '')\n",
        "    ListReviewers = extraxtString(mystring,\"overall:\",\"overall:\")\n",
        "\n",
        "    myList=[]\n",
        "    for i in range(0,len(ListReviewers)):\n",
        "        s=ListReviewers[i]\n",
        "        if \"overall\" and \"reviewText\" in s:\n",
        "            string1 = s[s.find(start1)+len(start1):s.rfind(end1)]\n",
        "            string2 = s[s.find(start2)+len(start2):s.rfind(end2)]\n",
        "            myList.append([string1,string2])\n",
        "\n",
        "    print(filename,\"is structured.\")\n",
        "    #dataTemp = myList[0:1000]\n",
        "    dataTemp = myList\n",
        "    dataFrameTemp = spark.createDataFrame(dataTemp, columns)\n",
        "    dataFrameTemp.show()\n",
        "\n",
        "    # concatinate data frames\n",
        "    df = df.union(dataFrameTemp)\n",
        "\n"
      ],
      "metadata": {
        "id": "_8bCZoOliAn7",
        "colab": {
          "base_uri": "https://localhost:8080/"
        },
        "outputId": "518f6e37-f669-4b7d-db36-ccd380017b3d"
      },
      "execution_count": 5,
      "outputs": [
        {
          "output_type": "stream",
          "name": "stdout",
          "text": [
            "+-------+----------+\n",
            "|overall|reviewText|\n",
            "+-------+----------+\n",
            "+-------+----------+\n",
            "\n",
            "test4.txt\n",
            "test4.txt is structured.\n",
            "+-------+--------------------+\n",
            "|overall|          reviewText|\n",
            "+-------+--------------------+\n",
            "|      4|I've been using D...|\n",
            "|      4|The demo is done ...|\n",
            "|      5|If you've been wa...|\n",
            "|      5|I've been creatin...|\n",
            "|      5|I decided (after ...|\n",
            "|      5|The video is well...|\n",
            "|      5|I spent several h...|\n",
            "|      5|I have had Dreamw...|\n",
            "|      5|I have also taken...|\n",
            "|      5|Even though I use...|\n",
            "|      3|I waited to compl...|\n",
            "|      5|As someone who ha...|\n",
            "|      5|Adobe approved \\A...|\n",
            "|      5|This is a greate ...|\n",
            "|      3|There are over 10...|\n",
            "|      5|I am not an avid ...|\n",
            "|      5|I am a long time ...|\n",
            "|      4|The \\Learn by Vid...|\n",
            "|      4|The presenter her...|\n",
            "|      4|This certified as...|\n",
            "+-------+--------------------+\n",
            "only showing top 20 rows\n",
            "\n",
            "test2.txt\n",
            "test2.txt is structured.\n",
            "+-------+--------------------+\n",
            "|overall|          reviewText|\n",
            "+-------+--------------------+\n",
            "|      4|I've been using D...|\n",
            "|      4|The demo is done ...|\n",
            "|      5|If you've been wa...|\n",
            "|      5|I've been creatin...|\n",
            "|      5|I decided (after ...|\n",
            "|      5|The video is well...|\n",
            "|      5|I spent several h...|\n",
            "|      5|I have had Dreamw...|\n",
            "|      5|I have also taken...|\n",
            "|      5|Even though I use...|\n",
            "|      3|I waited to compl...|\n",
            "|      5|As someone who ha...|\n",
            "|      5|Adobe approved \\A...|\n",
            "|      5|This is a greate ...|\n",
            "|      3|There are over 10...|\n",
            "|      5|I am not an avid ...|\n",
            "|      5|I am a long time ...|\n",
            "|      4|The \\Learn by Vid...|\n",
            "|      4|The presenter her...|\n",
            "|      4|This certified as...|\n",
            "+-------+--------------------+\n",
            "only showing top 20 rows\n",
            "\n",
            "test3.txt\n",
            "test3.txt is structured.\n",
            "+-------+--------------------+\n",
            "|overall|          reviewText|\n",
            "+-------+--------------------+\n",
            "|      4|I've been using D...|\n",
            "|      4|The demo is done ...|\n",
            "|      5|If you've been wa...|\n",
            "|      5|I've been creatin...|\n",
            "|      5|I decided (after ...|\n",
            "|      5|The video is well...|\n",
            "|      5|I spent several h...|\n",
            "|      5|I have had Dreamw...|\n",
            "|      5|I have also taken...|\n",
            "|      5|Even though I use...|\n",
            "|      3|I waited to compl...|\n",
            "|      5|As someone who ha...|\n",
            "|      5|Adobe approved \\A...|\n",
            "|      5|This is a greate ...|\n",
            "|      3|There are over 10...|\n",
            "|      5|I am not an avid ...|\n",
            "|      5|I am a long time ...|\n",
            "|      4|The \\Learn by Vid...|\n",
            "|      4|The presenter her...|\n",
            "|      4|This certified as...|\n",
            "+-------+--------------------+\n",
            "only showing top 20 rows\n",
            "\n",
            "test1.txt\n",
            "test1.txt is structured.\n",
            "+-------+--------------------+\n",
            "|overall|          reviewText|\n",
            "+-------+--------------------+\n",
            "|      4|I've been using D...|\n",
            "|      4|The demo is done ...|\n",
            "|      5|If you've been wa...|\n",
            "|      5|I've been creatin...|\n",
            "|      5|I decided (after ...|\n",
            "|      5|The video is well...|\n",
            "|      5|I spent several h...|\n",
            "|      5|I have had Dreamw...|\n",
            "|      5|I have also taken...|\n",
            "|      5|Even though I use...|\n",
            "|      3|I waited to compl...|\n",
            "|      5|As someone who ha...|\n",
            "|      5|Adobe approved \\A...|\n",
            "|      5|This is a greate ...|\n",
            "|      3|There are over 10...|\n",
            "|      5|I am not an avid ...|\n",
            "|      5|I am a long time ...|\n",
            "|      4|The \\Learn by Vid...|\n",
            "|      4|The presenter her...|\n",
            "|      4|This certified as...|\n",
            "+-------+--------------------+\n",
            "only showing top 20 rows\n",
            "\n"
          ]
        }
      ]
    },
    {
      "cell_type": "code",
      "source": [
        "\n",
        "\n",
        "df.show()"
      ],
      "metadata": {
        "colab": {
          "base_uri": "https://localhost:8080/"
        },
        "id": "ZuRmuzEVUu_U",
        "outputId": "eb6f9064-d6b7-47d5-979f-7d8d2f13a389"
      },
      "execution_count": 6,
      "outputs": [
        {
          "output_type": "stream",
          "name": "stdout",
          "text": [
            "+-------+--------------------+\n",
            "|overall|          reviewText|\n",
            "+-------+--------------------+\n",
            "|      4|I've been using D...|\n",
            "|      4|The demo is done ...|\n",
            "|      5|If you've been wa...|\n",
            "|      5|I've been creatin...|\n",
            "|      5|I decided (after ...|\n",
            "|      5|The video is well...|\n",
            "|      5|I spent several h...|\n",
            "|      5|I have had Dreamw...|\n",
            "|      5|I have also taken...|\n",
            "|      5|Even though I use...|\n",
            "|      3|I waited to compl...|\n",
            "|      5|As someone who ha...|\n",
            "|      5|Adobe approved \\A...|\n",
            "|      5|This is a greate ...|\n",
            "|      3|There are over 10...|\n",
            "|      5|I am not an avid ...|\n",
            "|      5|I am a long time ...|\n",
            "|      4|The \\Learn by Vid...|\n",
            "|      4|The presenter her...|\n",
            "|      4|This certified as...|\n",
            "+-------+--------------------+\n",
            "only showing top 20 rows\n",
            "\n"
          ]
        }
      ]
    }
  ]
}